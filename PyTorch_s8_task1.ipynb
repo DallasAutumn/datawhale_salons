{
  "nbformat": 4,
  "nbformat_minor": 0,
  "metadata": {
    "colab": {
      "name": "PyTorch-s8-task1.ipynb",
      "version": "0.3.2",
      "provenance": [],
      "toc_visible": true,
      "include_colab_link": true
    },
    "kernelspec": {
      "name": "python3",
      "display_name": "Python 3"
    }
  },
  "cells": [
    {
      "cell_type": "markdown",
      "metadata": {
        "id": "view-in-github",
        "colab_type": "text"
      },
      "source": [
        "<a href=\"https://colab.research.google.com/github/DallasAutumn/datawhale_salons/blob/master/PyTorch_s8_task1.ipynb\" target=\"_parent\"><img src=\"https://colab.research.google.com/assets/colab-badge.svg\" alt=\"Open In Colab\"/></a>"
      ]
    },
    {
      "cell_type": "markdown",
      "metadata": {
        "id": "TsgIm3h-369J",
        "colab_type": "text"
      },
      "source": [
        ""
      ]
    },
    {
      "cell_type": "code",
      "metadata": {
        "id": "7sARJ1Se30Ch",
        "colab_type": "code",
        "colab": {}
      },
      "source": [
        "from torch.autograd import Variable\n",
        "from torch.utils.data import DataLoader\n",
        "\n",
        "from torchvision import datasets, transforms\n",
        "\n",
        "\n",
        "import torch\n",
        "import torch.nn as nn\n",
        "import torch.nn.functional as F\n",
        "\n",
        "import matplotlib.pyplot as plt\n",
        "\n",
        "# Hyper params\n",
        "EPOCHS = 1\n",
        "BATCH_SIZE = 64\n",
        "TIME_STEP = 28 # 28步中每步读取一行\n",
        "INPUT_SIZE = 28 # 每行读取28个像素点\n",
        "TEST_SIZE = 2000\n",
        "LR = 0.01"
      ],
      "execution_count": 0,
      "outputs": []
    },
    {
      "cell_type": "code",
      "metadata": {
        "id": "7quAz86FLoez",
        "colab_type": "code",
        "colab": {}
      },
      "source": [
        "train_data = datasets.MNIST(root='./mnist', train=True, transform=transforms.ToTensor(), download=True)\n",
        "train_loader = DataLoader(dataset=train_data, batch_size=BATCH_SIZE, shuffle=True, num_workers=2)\n",
        "\n",
        "test_data = datasets.MNIST(root='./mnist', train=False, transform=transforms.ToTensor())\n",
        "with torch.no_grad():\n",
        "    test_x = Variable(test_data.data).type(torch.FloatTensor)[:TEST_SIZE] / 255. # normalization\n",
        "    test_y = test_data.targets.numpy().squeeze()[:TEST_SIZE]"
      ],
      "execution_count": 0,
      "outputs": []
    },
    {
      "cell_type": "code",
      "metadata": {
        "id": "kHL4o8dfNUjO",
        "colab_type": "code",
        "colab": {
          "base_uri": "https://localhost:8080/",
          "height": 84
        },
        "outputId": "fbcfe3dc-8bb1-4f5f-8b39-e33ca61fa905"
      },
      "source": [
        "class RNN(nn.Module):\n",
        "    def __init__(self):\n",
        "        super().__init__()\n",
        "\n",
        "        self.rnn = nn.LSTM(\n",
        "            input_size=INPUT_SIZE,\n",
        "            hidden_size=64,\n",
        "            num_layers=2,\n",
        "            batch_first=True,\n",
        "        )\n",
        "\n",
        "        self.out = nn.Linear(64, 10)\n",
        "    \n",
        "    def forward(self, x):\n",
        "        r_out, (h_n, h_c) = self.rnn(x, None)\n",
        "        out = self.out(r_out[:, -1, :]) # batch_size, time_step, input_size\n",
        "        return out\n",
        "\n",
        "rnn = RNN()\n",
        "print(rnn)"
      ],
      "execution_count": 21,
      "outputs": [
        {
          "output_type": "stream",
          "text": [
            "RNN(\n",
            "  (rnn): LSTM(28, 64, num_layers=2, batch_first=True)\n",
            "  (out): Linear(in_features=64, out_features=10, bias=True)\n",
            ")\n"
          ],
          "name": "stdout"
        }
      ]
    },
    {
      "cell_type": "code",
      "metadata": {
        "id": "hKz4L_wFPpLt",
        "colab_type": "code",
        "colab": {
          "base_uri": "https://localhost:8080/",
          "height": 370
        },
        "outputId": "def84946-8a00-45e1-c7b0-9f6e00bb4d46"
      },
      "source": [
        "optimizer = torch.optim.Adam(rnn.parameters(), lr=LR)\n",
        "loss_func = nn.CrossEntropyLoss()\n",
        "\n",
        "for epoch in range(EPOCHS):\n",
        "    print(f\"# epoch {epoch} ...\")\n",
        "    for step, (batch_x, batch_y) in enumerate(train_loader):\n",
        "        b_x = Variable(batch_x.view(-1, 28, 28)) # Tensor(64, 28, 28)\n",
        "        b_y = Variable(batch_y) # Tensor(64)\n",
        "        output = rnn(b_x)\n",
        "        #print(b_x.size(), b_y.size())\n",
        "        loss = loss_func(output, b_y)\n",
        "\n",
        "        optimizer.zero_grad()\n",
        "        loss.backward()\n",
        "        optimizer.step()\n",
        "\n",
        "        if step % 50 == 0:\n",
        "            test_output = rnn(test_x)\n",
        "            pred_y = torch.max(test_output, 1)[1].data.numpy().squeeze()\n",
        "            accuracy = sum(pred_y == test_y) / test_y.size\n",
        "            print(\"train loss: %.4f\" % loss.item(), \"test accuracy: %.2f\" % accuracy)\n",
        "\n",
        "test_output = rnn(test_x[:10].view(-1, 28, 28))\n",
        "pred_y = torch.max(test_output, 1)[1].data.numpy().squeeze()\n",
        "print('prediction', pred_y, 'real number', test_y[:10])"
      ],
      "execution_count": 23,
      "outputs": [
        {
          "output_type": "stream",
          "text": [
            "# epoch 0 ...\n",
            "train loss: 0.3076 test accuracy: 0.86\n",
            "train loss: 0.1935 test accuracy: 0.90\n",
            "train loss: 0.4376 test accuracy: 0.88\n",
            "train loss: 0.2455 test accuracy: 0.91\n",
            "train loss: 0.1154 test accuracy: 0.92\n",
            "train loss: 0.1830 test accuracy: 0.94\n",
            "train loss: 0.1466 test accuracy: 0.94\n",
            "train loss: 0.3069 test accuracy: 0.95\n",
            "train loss: 0.0890 test accuracy: 0.95\n",
            "train loss: 0.0550 test accuracy: 0.96\n",
            "train loss: 0.1256 test accuracy: 0.96\n",
            "train loss: 0.4467 test accuracy: 0.93\n",
            "train loss: 0.3135 test accuracy: 0.95\n",
            "train loss: 0.1338 test accuracy: 0.97\n",
            "train loss: 0.1523 test accuracy: 0.95\n",
            "train loss: 0.3754 test accuracy: 0.95\n",
            "train loss: 0.1431 test accuracy: 0.96\n",
            "train loss: 0.1362 test accuracy: 0.95\n",
            "train loss: 0.0649 test accuracy: 0.96\n",
            "prediction [7 2 1 0 4 1 4 9 5 9] real number [7 2 1 0 4 1 4 9 5 9]\n"
          ],
          "name": "stdout"
        }
      ]
    },
    {
      "cell_type": "code",
      "metadata": {
        "id": "XyiJZ27Sldgq",
        "colab_type": "code",
        "colab": {}
      },
      "source": [
        ""
      ],
      "execution_count": 0,
      "outputs": []
    }
  ]
}